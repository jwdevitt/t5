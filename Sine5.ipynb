{
 "cells": [
  {
   "cell_type": "code",
   "execution_count": 1,
   "metadata": {},
   "outputs": [
    {
     "data": {
      "application/vnd.jupyter.widget-view+json": {
       "model_id": "b7e1a9358c5d401eb178203e96d51c44",
       "version_major": 2,
       "version_minor": 0
      },
      "text/plain": [
       "interactive(children=(FloatSlider(value=3.0, description='Freq', max=10.0, min=0.25, step=0.25), FloatSlider(v…"
      ]
     },
     "metadata": {},
     "output_type": "display_data"
    },
    {
     "data": {
      "text/plain": [
       "<function __main__.plot_func(Freq, amp, colr)>"
      ]
     },
     "execution_count": 1,
     "metadata": {},
     "output_type": "execute_result"
    }
   ],
   "source": [
    "from ipywidgets import interact, interactive, fixed, interact_manual\n",
    "\n",
    "import ipywidgets as widgets\n",
    "import numpy as np\n",
    "from decimal import Decimal\n",
    "import matplotlib.pyplot as plt\n",
    "%matplotlib inline\n",
    "maxfreq=10\n",
    "x = np.linspace(0, 2 * np.pi)\n",
    "#print(x)\n",
    "def plot_func(Freq,amp,colr):\n",
    "   \n",
    "    x2=x*Freq  \n",
    "    #plt.figure(figsize=(7,9))\n",
    "    plt.plot ( x, amp*np.sin(x2),color = colr)\n",
    "    plt.axis([0,max(x),-3,3])\n",
    "    plt.grid(True)\n",
    "    \n",
    "    #print (\"Freq=\", Freq,\"  Amplitue=\",amp)\n",
    "interact(plot_func, Freq = widgets.FloatSlider(value=3, min=0.25, max=maxfreq, step=0.25),amp=widgets.FloatSlider(value=1,min=0.5,max=3),colr=[\"red\",\"orange\",\"yellow\",\"green\"])"
   ]
  },
  {
   "cell_type": "code",
   "execution_count": null,
   "metadata": {},
   "outputs": [],
   "source": []
  }
 ],
 "metadata": {
  "kernelspec": {
   "display_name": "Python 3",
   "language": "python",
   "name": "python3"
  },
  "language_info": {
   "codemirror_mode": {
    "name": "ipython",
    "version": 3
   },
   "file_extension": ".py",
   "mimetype": "text/x-python",
   "name": "python",
   "nbconvert_exporter": "python",
   "pygments_lexer": "ipython3",
   "version": "3.7.9"
  }
 },
 "nbformat": 4,
 "nbformat_minor": 2
}
